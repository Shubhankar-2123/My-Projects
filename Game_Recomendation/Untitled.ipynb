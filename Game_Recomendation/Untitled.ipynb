{
 "cells": [
  {
   "cell_type": "code",
   "execution_count": 1,
   "id": "c9a32307-0ec7-47da-9660-d1f14a4926c8",
   "metadata": {},
   "outputs": [
    {
     "name": "stderr",
     "output_type": "stream",
     "text": [
      "2025-06-11 20:12:08.611 WARNING streamlit.runtime.scriptrunner_utils.script_run_context: Thread 'MainThread': missing ScriptRunContext! This warning can be ignored when running in bare mode.\n",
      "2025-06-11 20:12:09.464 \n",
      "  \u001b[33m\u001b[1mWarning:\u001b[0m to view this Streamlit app on a browser, run it with the following\n",
      "  command:\n",
      "\n",
      "    streamlit run C:\\Users\\Shubhankar\\AppData\\Local\\Programs\\Python\\Python312\\Lib\\site-packages\\ipykernel_launcher.py [ARGUMENTS]\n",
      "2025-06-11 20:12:09.465 Thread 'MainThread': missing ScriptRunContext! This warning can be ignored when running in bare mode.\n",
      "2025-06-11 20:12:09.466 Thread 'MainThread': missing ScriptRunContext! This warning can be ignored when running in bare mode.\n",
      "2025-06-11 20:12:09.467 Thread 'MainThread': missing ScriptRunContext! This warning can be ignored when running in bare mode.\n",
      "2025-06-11 20:12:09.468 Thread 'MainThread': missing ScriptRunContext! This warning can be ignored when running in bare mode.\n",
      "2025-06-11 20:12:09.469 Thread 'MainThread': missing ScriptRunContext! This warning can be ignored when running in bare mode.\n",
      "2025-06-11 20:12:09.470 Thread 'MainThread': missing ScriptRunContext! This warning can be ignored when running in bare mode.\n",
      "2025-06-11 20:12:09.471 Thread 'MainThread': missing ScriptRunContext! This warning can be ignored when running in bare mode.\n",
      "2025-06-11 20:12:09.472 Thread 'MainThread': missing ScriptRunContext! This warning can be ignored when running in bare mode.\n",
      "2025-06-11 20:12:09.473 Thread 'MainThread': missing ScriptRunContext! This warning can be ignored when running in bare mode.\n",
      "2025-06-11 20:12:09.474 Thread 'MainThread': missing ScriptRunContext! This warning can be ignored when running in bare mode.\n"
     ]
    }
   ],
   "source": [
    "import streamlit as st\n",
    "import pandas as pd \n",
    "import matplotlib.pyplot as plt \n",
    "\n",
    "st.title(\"Simple Data Dashaboard\")\n",
    "\n",
    "uploaded_file = st.file_uploader(\"Choose a CSV file\",type='csv')\n",
    "if uploaded_file is not None:\n",
    "    df = pd.read_csv(uploaded_file)\n",
    "\n",
    "    st.subheader(\"Data Privew\")\n",
    "    st.write(df.head())\n",
    "\n",
    "    st.subheader('Data Summary')\n",
    "    st.write(df.describe())\n",
    "\n",
    "    st.subheader('Filter Data')\n",
    "    columns = df.columns.tolist()\n",
    "    selected_columns = st.selectbox(\"Select colum  to filter by \",columns)\n",
    "    unique_values = df[selected_columns].unique()\n",
    "    selected_values = st.selectbox(\"Select value\", unique_values) \n",
    "\n",
    "    filtered_df = df[df[selected_columns] == selected_values]\n",
    "    st.write(filtered_df)\n",
    "\n",
    "    st.subheader(\"Plot data\")\n",
    "    x_columns = st.selectbox(\"Select x-axis column\",columns)\n",
    "    y_columns = st.selectbox(\"Select y-axis column\",columns)\n",
    "\n",
    "    if st.button(\"Generate Plot\"):\n",
    "        st.line_chart(filtered_df.set_index(x_columns)[y_columns])\n",
    "else:\n",
    "    st.write(\"Wainting for fileto upload...!\") "
   ]
  },
  {
   "cell_type": "code",
   "execution_count": 2,
   "id": "90813ab2-70f6-4435-81ab-4ba4425491f7",
   "metadata": {},
   "outputs": [
    {
     "data": {
      "text/html": [
       "<div>\n",
       "<style scoped>\n",
       "    .dataframe tbody tr th:only-of-type {\n",
       "        vertical-align: middle;\n",
       "    }\n",
       "\n",
       "    .dataframe tbody tr th {\n",
       "        vertical-align: top;\n",
       "    }\n",
       "\n",
       "    .dataframe thead th {\n",
       "        text-align: right;\n",
       "    }\n",
       "</style>\n",
       "<table border=\"1\" class=\"dataframe\">\n",
       "  <thead>\n",
       "    <tr style=\"text-align: right;\">\n",
       "      <th></th>\n",
       "      <th>URL</th>\n",
       "      <th>Name</th>\n",
       "      <th>Icon URL</th>\n",
       "      <th>Average User Rating</th>\n",
       "      <th>User Rating Count</th>\n",
       "      <th>Description</th>\n",
       "      <th>Developer</th>\n",
       "      <th>Primary Genre</th>\n",
       "      <th>Genres</th>\n",
       "    </tr>\n",
       "  </thead>\n",
       "  <tbody>\n",
       "    <tr>\n",
       "      <th>0</th>\n",
       "      <td>https://apps.apple.com/us/app/sudoku/id284921427</td>\n",
       "      <td>Sudoku</td>\n",
       "      <td>https://is2-ssl.mzstatic.com/image/thumb/Purpl...</td>\n",
       "      <td>4.0</td>\n",
       "      <td>3553.0</td>\n",
       "      <td>Join over 21,000,000 of our fans and download ...</td>\n",
       "      <td>Mighty Mighty Good Games</td>\n",
       "      <td>Games</td>\n",
       "      <td>Games, Strategy, Puzzle</td>\n",
       "    </tr>\n",
       "    <tr>\n",
       "      <th>1</th>\n",
       "      <td>https://apps.apple.com/us/app/reversi/id284926400</td>\n",
       "      <td>Reversi</td>\n",
       "      <td>https://is4-ssl.mzstatic.com/image/thumb/Purpl...</td>\n",
       "      <td>3.5</td>\n",
       "      <td>284.0</td>\n",
       "      <td>The classic game of Reversi, also known as Oth...</td>\n",
       "      <td>Kiss The Machine</td>\n",
       "      <td>Games</td>\n",
       "      <td>Games, Strategy, Board</td>\n",
       "    </tr>\n",
       "    <tr>\n",
       "      <th>2</th>\n",
       "      <td>https://apps.apple.com/us/app/morocco/id284946595</td>\n",
       "      <td>Morocco</td>\n",
       "      <td>https://is5-ssl.mzstatic.com/image/thumb/Purpl...</td>\n",
       "      <td>3.0</td>\n",
       "      <td>8376.0</td>\n",
       "      <td>Play the classic strategy game Othello (also k...</td>\n",
       "      <td>Bayou Games</td>\n",
       "      <td>Games</td>\n",
       "      <td>Games, Board, Strategy</td>\n",
       "    </tr>\n",
       "    <tr>\n",
       "      <th>3</th>\n",
       "      <td>https://apps.apple.com/us/app/sudoku-free/id28...</td>\n",
       "      <td>Sudoku (Free)</td>\n",
       "      <td>https://is3-ssl.mzstatic.com/image/thumb/Purpl...</td>\n",
       "      <td>3.5</td>\n",
       "      <td>190394.0</td>\n",
       "      <td>Top 100 free app for over a year.\\nRated \"Best...</td>\n",
       "      <td>Mighty Mighty Good Games</td>\n",
       "      <td>Games</td>\n",
       "      <td>Games, Strategy, Puzzle</td>\n",
       "    </tr>\n",
       "    <tr>\n",
       "      <th>4</th>\n",
       "      <td>https://apps.apple.com/us/app/senet-deluxe/id2...</td>\n",
       "      <td>Senet Deluxe</td>\n",
       "      <td>https://is1-ssl.mzstatic.com/image/thumb/Purpl...</td>\n",
       "      <td>3.5</td>\n",
       "      <td>28.0</td>\n",
       "      <td>\"Senet Deluxe - The Ancient Game of Life and A...</td>\n",
       "      <td>RoGame Software</td>\n",
       "      <td>Games</td>\n",
       "      <td>Games, Strategy, Board, Education</td>\n",
       "    </tr>\n",
       "  </tbody>\n",
       "</table>\n",
       "</div>"
      ],
      "text/plain": [
       "                                                 URL           Name  \\\n",
       "0   https://apps.apple.com/us/app/sudoku/id284921427         Sudoku   \n",
       "1  https://apps.apple.com/us/app/reversi/id284926400        Reversi   \n",
       "2  https://apps.apple.com/us/app/morocco/id284946595        Morocco   \n",
       "3  https://apps.apple.com/us/app/sudoku-free/id28...  Sudoku (Free)   \n",
       "4  https://apps.apple.com/us/app/senet-deluxe/id2...   Senet Deluxe   \n",
       "\n",
       "                                            Icon URL  Average User Rating  \\\n",
       "0  https://is2-ssl.mzstatic.com/image/thumb/Purpl...                  4.0   \n",
       "1  https://is4-ssl.mzstatic.com/image/thumb/Purpl...                  3.5   \n",
       "2  https://is5-ssl.mzstatic.com/image/thumb/Purpl...                  3.0   \n",
       "3  https://is3-ssl.mzstatic.com/image/thumb/Purpl...                  3.5   \n",
       "4  https://is1-ssl.mzstatic.com/image/thumb/Purpl...                  3.5   \n",
       "\n",
       "   User Rating Count                                        Description  \\\n",
       "0             3553.0  Join over 21,000,000 of our fans and download ...   \n",
       "1              284.0  The classic game of Reversi, also known as Oth...   \n",
       "2             8376.0  Play the classic strategy game Othello (also k...   \n",
       "3           190394.0  Top 100 free app for over a year.\\nRated \"Best...   \n",
       "4               28.0  \"Senet Deluxe - The Ancient Game of Life and A...   \n",
       "\n",
       "                  Developer Primary Genre                             Genres  \n",
       "0  Mighty Mighty Good Games         Games            Games, Strategy, Puzzle  \n",
       "1          Kiss The Machine         Games             Games, Strategy, Board  \n",
       "2               Bayou Games         Games             Games, Board, Strategy  \n",
       "3  Mighty Mighty Good Games         Games            Games, Strategy, Puzzle  \n",
       "4           RoGame Software         Games  Games, Strategy, Board, Education  "
      ]
     },
     "execution_count": 2,
     "metadata": {},
     "output_type": "execute_result"
    }
   ],
   "source": [
    "df = pd.read_csv('./cleaned_games.csv')\n",
    "df.head()"
   ]
  },
  {
   "cell_type": "code",
   "execution_count": 3,
   "id": "8a44986a-8d25-4f2e-8125-32bf1fab2680",
   "metadata": {},
   "outputs": [
    {
     "name": "stdout",
     "output_type": "stream",
     "text": [
      "<class 'pandas.core.frame.DataFrame'>\n",
      "RangeIndex: 17007 entries, 0 to 17006\n",
      "Data columns (total 9 columns):\n",
      " #   Column               Non-Null Count  Dtype  \n",
      "---  ------               --------------  -----  \n",
      " 0   URL                  17007 non-null  object \n",
      " 1   Name                 17007 non-null  object \n",
      " 2   Icon URL             17007 non-null  object \n",
      " 3   Average User Rating  7561 non-null   float64\n",
      " 4   User Rating Count    7561 non-null   float64\n",
      " 5   Description          16989 non-null  object \n",
      " 6   Developer            17007 non-null  object \n",
      " 7   Primary Genre        17007 non-null  object \n",
      " 8   Genres               17007 non-null  object \n",
      "dtypes: float64(2), object(7)\n",
      "memory usage: 1.2+ MB\n"
     ]
    }
   ],
   "source": [
    "df.info()"
   ]
  },
  {
   "cell_type": "code",
   "execution_count": 4,
   "id": "20600034-7e30-4453-bf3d-d8e3d4ed1175",
   "metadata": {},
   "outputs": [
    {
     "data": {
      "text/plain": [
       "URL                       0\n",
       "Name                      0\n",
       "Icon URL                  0\n",
       "Average User Rating    9446\n",
       "User Rating Count      9446\n",
       "Description              18\n",
       "Developer                 0\n",
       "Primary Genre             0\n",
       "Genres                    0\n",
       "dtype: int64"
      ]
     },
     "execution_count": 4,
     "metadata": {},
     "output_type": "execute_result"
    }
   ],
   "source": [
    "df.isna().sum()"
   ]
  },
  {
   "cell_type": "code",
   "execution_count": 7,
   "id": "06307efb-cf8b-43b1-8c91-f7177ec412af",
   "metadata": {},
   "outputs": [],
   "source": [
    "df['Average User Rating'] = df['Average User Rating'].fillna(df['Average User Rating'].mode()[0])\n",
    "df['User Rating Count'] = df['User Rating Count'].fillna(df['User Rating Count'].mode()[0])\n"
   ]
  },
  {
   "cell_type": "code",
   "execution_count": 8,
   "id": "fc6f578f-5264-49aa-8ee4-a3976e799328",
   "metadata": {},
   "outputs": [
    {
     "name": "stdout",
     "output_type": "stream",
     "text": [
      "<class 'pandas.core.frame.DataFrame'>\n",
      "RangeIndex: 17007 entries, 0 to 17006\n",
      "Data columns (total 9 columns):\n",
      " #   Column               Non-Null Count  Dtype  \n",
      "---  ------               --------------  -----  \n",
      " 0   URL                  17007 non-null  object \n",
      " 1   Name                 17007 non-null  object \n",
      " 2   Icon URL             17007 non-null  object \n",
      " 3   Average User Rating  17007 non-null  float64\n",
      " 4   User Rating Count    17007 non-null  float64\n",
      " 5   Description          16989 non-null  object \n",
      " 6   Developer            17007 non-null  object \n",
      " 7   Primary Genre        17007 non-null  object \n",
      " 8   Genres               17007 non-null  object \n",
      "dtypes: float64(2), object(7)\n",
      "memory usage: 1.2+ MB\n"
     ]
    }
   ],
   "source": [
    "df.info()"
   ]
  },
  {
   "cell_type": "code",
   "execution_count": 9,
   "id": "bd5f9eeb-b1d2-41dd-b135-bc2c932c042f",
   "metadata": {},
   "outputs": [],
   "source": [
    "df['Description'] = df['Description'].fillna('No description available')\n"
   ]
  },
  {
   "cell_type": "code",
   "execution_count": 10,
   "id": "e5688f1f-f20e-4870-b102-1e8c5446a7dc",
   "metadata": {},
   "outputs": [
    {
     "name": "stdout",
     "output_type": "stream",
     "text": [
      "<class 'pandas.core.frame.DataFrame'>\n",
      "RangeIndex: 17007 entries, 0 to 17006\n",
      "Data columns (total 9 columns):\n",
      " #   Column               Non-Null Count  Dtype  \n",
      "---  ------               --------------  -----  \n",
      " 0   URL                  17007 non-null  object \n",
      " 1   Name                 17007 non-null  object \n",
      " 2   Icon URL             17007 non-null  object \n",
      " 3   Average User Rating  17007 non-null  float64\n",
      " 4   User Rating Count    17007 non-null  float64\n",
      " 5   Description          17007 non-null  object \n",
      " 6   Developer            17007 non-null  object \n",
      " 7   Primary Genre        17007 non-null  object \n",
      " 8   Genres               17007 non-null  object \n",
      "dtypes: float64(2), object(7)\n",
      "memory usage: 1.2+ MB\n"
     ]
    }
   ],
   "source": [
    "df.info()"
   ]
  },
  {
   "cell_type": "code",
   "execution_count": 11,
   "id": "c0d1f01b-a94b-4719-8f04-4f632772355e",
   "metadata": {},
   "outputs": [],
   "source": [
    "df.to_csv('Game_processed_data.csv', index=False)\n"
   ]
  },
  {
   "cell_type": "code",
   "execution_count": null,
   "id": "cf277435-1f23-4b70-9fa6-5ba00d9a60d8",
   "metadata": {},
   "outputs": [],
   "source": []
  }
 ],
 "metadata": {
  "kernelspec": {
   "display_name": "Python 3 (ipykernel)",
   "language": "python",
   "name": "python3"
  },
  "language_info": {
   "codemirror_mode": {
    "name": "ipython",
    "version": 3
   },
   "file_extension": ".py",
   "mimetype": "text/x-python",
   "name": "python",
   "nbconvert_exporter": "python",
   "pygments_lexer": "ipython3",
   "version": "3.12.2"
  }
 },
 "nbformat": 4,
 "nbformat_minor": 5
}
